{
 "cells": [
  {
   "cell_type": "code",
   "execution_count": 7,
   "id": "534e8906",
   "metadata": {},
   "outputs": [],
   "source": [
    "# Import Packages & Modules"
   ]
  },
  {
   "cell_type": "code",
   "execution_count": 1,
   "id": "75e51e6a",
   "metadata": {},
   "outputs": [],
   "source": [
    "import pandas as pd\n",
    "import numpy as np\n",
    "import matplotlib.pyplot as plt\n",
    "import statsmodels.api as sm\n",
    "from statsmodels.tsa.stattools import adfuller"
   ]
  },
  {
   "cell_type": "code",
   "execution_count": 10,
   "id": "1dcda4e2",
   "metadata": {},
   "outputs": [],
   "source": [
    "WTI = pd.read_excel(\"WTI.xls\", index_col=\"Date\",parse_dates=True)"
   ]
  },
  {
   "cell_type": "code",
   "execution_count": 11,
   "id": "7d817f3a",
   "metadata": {},
   "outputs": [
    {
     "data": {
      "text/html": [
       "<div>\n",
       "<style scoped>\n",
       "    .dataframe tbody tr th:only-of-type {\n",
       "        vertical-align: middle;\n",
       "    }\n",
       "\n",
       "    .dataframe tbody tr th {\n",
       "        vertical-align: top;\n",
       "    }\n",
       "\n",
       "    .dataframe thead th {\n",
       "        text-align: right;\n",
       "    }\n",
       "</style>\n",
       "<table border=\"1\" class=\"dataframe\">\n",
       "  <thead>\n",
       "    <tr style=\"text-align: right;\">\n",
       "      <th></th>\n",
       "      <th>Price</th>\n",
       "    </tr>\n",
       "    <tr>\n",
       "      <th>Date</th>\n",
       "      <th></th>\n",
       "    </tr>\n",
       "  </thead>\n",
       "  <tbody>\n",
       "    <tr>\n",
       "      <th>2012-01-03</th>\n",
       "      <td>102.96</td>\n",
       "    </tr>\n",
       "    <tr>\n",
       "      <th>2012-01-04</th>\n",
       "      <td>103.22</td>\n",
       "    </tr>\n",
       "    <tr>\n",
       "      <th>2012-01-05</th>\n",
       "      <td>101.81</td>\n",
       "    </tr>\n",
       "    <tr>\n",
       "      <th>2012-01-06</th>\n",
       "      <td>101.56</td>\n",
       "    </tr>\n",
       "    <tr>\n",
       "      <th>2012-01-09</th>\n",
       "      <td>101.31</td>\n",
       "    </tr>\n",
       "  </tbody>\n",
       "</table>\n",
       "</div>"
      ],
      "text/plain": [
       "             Price\n",
       "Date              \n",
       "2012-01-03  102.96\n",
       "2012-01-04  103.22\n",
       "2012-01-05  101.81\n",
       "2012-01-06  101.56\n",
       "2012-01-09  101.31"
      ]
     },
     "execution_count": 11,
     "metadata": {},
     "output_type": "execute_result"
    }
   ],
   "source": [
    "WTI.head()"
   ]
  },
  {
   "cell_type": "code",
   "execution_count": 12,
   "id": "a867ff48",
   "metadata": {},
   "outputs": [],
   "source": [
    "WTI_Price = pd.DataFrame(WTI)"
   ]
  },
  {
   "cell_type": "code",
   "execution_count": 13,
   "id": "358443ee",
   "metadata": {
    "scrolled": true
   },
   "outputs": [
    {
     "data": {
      "text/html": [
       "<div>\n",
       "<style scoped>\n",
       "    .dataframe tbody tr th:only-of-type {\n",
       "        vertical-align: middle;\n",
       "    }\n",
       "\n",
       "    .dataframe tbody tr th {\n",
       "        vertical-align: top;\n",
       "    }\n",
       "\n",
       "    .dataframe thead th {\n",
       "        text-align: right;\n",
       "    }\n",
       "</style>\n",
       "<table border=\"1\" class=\"dataframe\">\n",
       "  <thead>\n",
       "    <tr style=\"text-align: right;\">\n",
       "      <th></th>\n",
       "      <th>Price</th>\n",
       "    </tr>\n",
       "    <tr>\n",
       "      <th>Date</th>\n",
       "      <th></th>\n",
       "    </tr>\n",
       "  </thead>\n",
       "  <tbody>\n",
       "    <tr>\n",
       "      <th>2012-01-03</th>\n",
       "      <td>102.96</td>\n",
       "    </tr>\n",
       "    <tr>\n",
       "      <th>2012-01-04</th>\n",
       "      <td>103.22</td>\n",
       "    </tr>\n",
       "    <tr>\n",
       "      <th>2012-01-05</th>\n",
       "      <td>101.81</td>\n",
       "    </tr>\n",
       "    <tr>\n",
       "      <th>2012-01-06</th>\n",
       "      <td>101.56</td>\n",
       "    </tr>\n",
       "    <tr>\n",
       "      <th>2012-01-09</th>\n",
       "      <td>101.31</td>\n",
       "    </tr>\n",
       "  </tbody>\n",
       "</table>\n",
       "</div>"
      ],
      "text/plain": [
       "             Price\n",
       "Date              \n",
       "2012-01-03  102.96\n",
       "2012-01-04  103.22\n",
       "2012-01-05  101.81\n",
       "2012-01-06  101.56\n",
       "2012-01-09  101.31"
      ]
     },
     "execution_count": 13,
     "metadata": {},
     "output_type": "execute_result"
    }
   ],
   "source": [
    "WTI_Price.head()"
   ]
  },
  {
   "cell_type": "code",
   "execution_count": null,
   "id": "5c1d112c",
   "metadata": {},
   "outputs": [],
   "source": [
    "plt.plot(WTI_Price[\"Price\"])"
   ]
  },
  {
   "cell_type": "code",
   "execution_count": 7,
   "id": "18a80705",
   "metadata": {},
   "outputs": [],
   "source": [
    "#Dickey Fuller test to check stationarity"
   ]
  },
  {
   "cell_type": "code",
   "execution_count": 8,
   "id": "9eab947e",
   "metadata": {
    "scrolled": true
   },
   "outputs": [
    {
     "name": "stdout",
     "output_type": "stream",
     "text": [
      "ADF Statistic: -1.292440\n",
      "p-value: 0.632624\n",
      "Num of Lags 4\n",
      "Critical Values:\n",
      "\t1%: -3.435\n",
      "\t5%: -2.864\n",
      "\t10%: -2.568\n",
      "Failed to Reject Ho - Time Series is Non-Stationary\n"
     ]
    }
   ],
   "source": [
    "X = WTI_Price[\"DailyPrice\"].values\n",
    "result = adfuller(X)\n",
    "print('ADF Statistic: %f' % result[0])\n",
    "print('p-value: %f' % result[1])\n",
    "print('Num of Lags', result[2])\n",
    "print('Critical Values:')\n",
    "for key, value in result[4].items():\n",
    "    print('\\t%s: %.3f' % (key, value))\n",
    "    \n",
    "if result[0] < result[4][\"5%\"]:\n",
    "    print (\"Reject Ho - Time series is Stationary\")\n",
    "else:\n",
    "    print(\"Failed to Reject Ho - Time Series is Non-Stationary\")"
   ]
  },
  {
   "cell_type": "code",
   "execution_count": 9,
   "id": "d399047c",
   "metadata": {},
   "outputs": [],
   "source": [
    "#Diff Data"
   ]
  },
  {
   "cell_type": "code",
   "execution_count": 54,
   "id": "907c610c",
   "metadata": {},
   "outputs": [
    {
     "data": {
      "text/html": [
       "<div>\n",
       "<style scoped>\n",
       "    .dataframe tbody tr th:only-of-type {\n",
       "        vertical-align: middle;\n",
       "    }\n",
       "\n",
       "    .dataframe tbody tr th {\n",
       "        vertical-align: top;\n",
       "    }\n",
       "\n",
       "    .dataframe thead th {\n",
       "        text-align: right;\n",
       "    }\n",
       "</style>\n",
       "<table border=\"1\" class=\"dataframe\">\n",
       "  <thead>\n",
       "    <tr style=\"text-align: right;\">\n",
       "      <th></th>\n",
       "      <th>DailyPrice</th>\n",
       "    </tr>\n",
       "    <tr>\n",
       "      <th>Date</th>\n",
       "      <th></th>\n",
       "    </tr>\n",
       "  </thead>\n",
       "  <tbody>\n",
       "    <tr>\n",
       "      <th>2017-01-04</th>\n",
       "      <td>0.90</td>\n",
       "    </tr>\n",
       "    <tr>\n",
       "      <th>2017-01-05</th>\n",
       "      <td>0.51</td>\n",
       "    </tr>\n",
       "    <tr>\n",
       "      <th>2017-01-06</th>\n",
       "      <td>0.21</td>\n",
       "    </tr>\n",
       "    <tr>\n",
       "      <th>2017-01-07</th>\n",
       "      <td>-2.03</td>\n",
       "    </tr>\n",
       "    <tr>\n",
       "      <th>2017-01-08</th>\n",
       "      <td>-1.13</td>\n",
       "    </tr>\n",
       "  </tbody>\n",
       "</table>\n",
       "</div>"
      ],
      "text/plain": [
       "            DailyPrice\n",
       "Date                  \n",
       "2017-01-04        0.90\n",
       "2017-01-05        0.51\n",
       "2017-01-06        0.21\n",
       "2017-01-07       -2.03\n",
       "2017-01-08       -1.13"
      ]
     },
     "execution_count": 54,
     "metadata": {},
     "output_type": "execute_result"
    }
   ],
   "source": [
    "WTI_Price_diff = WTI_Price.diff().dropna()\n",
    "WTI_Price_diff.head()"
   ]
  },
  {
   "cell_type": "code",
   "execution_count": 55,
   "id": "09baf498",
   "metadata": {
    "scrolled": true
   },
   "outputs": [
    {
     "data": {
      "image/png": "[encoded data removed]",
      "text/plain": [
       "<Figure size 360x432 with 1 Axes>"
      ]
     },
     "metadata": {
      "needs_background": "light"
     },
     "output_type": "display_data"
    }
   ],
   "source": [
    "#plot diff data\n",
    "fig, ax = plt.subplots(figsize=(5, 6))\n",
    "ax.plot(WTI_Price_diff)\n",
    "ax.grid(axis=\"y\")\n",
    "ax.set_xlabel(\"Date\")\n",
    "ax.set_ylabel(\"WTI_Price Change ($/Barrel)\")\n",
    "plt.show()"
   ]
  },
  {
   "cell_type": "code",
   "execution_count": 50,
   "id": "2b53f58a",
   "metadata": {},
   "outputs": [],
   "source": [
    "# test\n",
    "from sklearn.linear_model import LinearRegression\n",
    "model = sm.OLS(Y,X)\n",
    "results = model.fit()"
   ]
  },
  {
   "cell_type": "code",
   "execution_count": 51,
   "id": "9e238e66",
   "metadata": {},
   "outputs": [
    {
     "name": "stdout",
     "output_type": "stream",
     "text": [
      "                            OLS Regression Results                            \n",
      "==============================================================================\n",
      "Dep. Variable:                      y   R-squared:                       0.011\n",
      "Model:                            OLS   Adj. R-squared:                  0.010\n",
      "Method:                 Least Squares   F-statistic:                     15.11\n",
      "Date:                Wed, 24 Aug 2022   Prob (F-statistic):           0.000106\n",
      "Time:                        13:14:31   Log-Likelihood:                -3969.2\n",
      "No. Observations:                1407   AIC:                             7942.\n",
      "Df Residuals:                    1405   BIC:                             7953.\n",
      "Df Model:                           1                                         \n",
      "Covariance Type:            nonrobust                                         \n",
      "==============================================================================\n",
      "                 coef    std err          t      P>|t|      [0.025      0.975]\n",
      "------------------------------------------------------------------------------\n",
      "const          1.3778      0.364      3.789      0.000       0.664       2.091\n",
      "x1            -0.0221      0.006     -3.887      0.000      -0.033      -0.011\n",
      "==============================================================================\n",
      "Omnibus:                      823.106   Durbin-Watson:                   2.775\n",
      "Prob(Omnibus):                  0.000   Jarque-Bera (JB):          4887144.512\n",
      "Skew:                          -0.864   Prob(JB):                         0.00\n",
      "Kurtosis:                     291.721   Cond. No.                         214.\n",
      "==============================================================================\n",
      "\n",
      "Notes:\n",
      "[1] Standard Errors assume that the covariance matrix of the errors is correctly specified.\n"
     ]
    }
   ],
   "source": [
    "print(results.summary())"
   ]
  },
  {
   "cell_type": "code",
   "execution_count": 52,
   "id": "e8255e4a",
   "metadata": {},
   "outputs": [
    {
     "data": {
      "text/plain": [
       "-3.8874779813461724"
      ]
     },
     "execution_count": 52,
     "metadata": {},
     "output_type": "execute_result"
    }
   ],
   "source": [
    "results.tvalues[1]"
   ]
  },
  {
   "cell_type": "code",
   "execution_count": 57,
   "id": "ce608b79",
   "metadata": {},
   "outputs": [
    {
     "name": "stdout",
     "output_type": "stream",
     "text": [
      "ADF Statistic: -26.022250\n",
      "p-value: 0.000000\n",
      "Num of Lags 3\n",
      "Critical Values:\n",
      "\t1%: -3.435\n",
      "\t5%: -2.864\n",
      "\t10%: -2.568\n",
      "Reject Ho - Time series is Stationary\n"
     ]
    }
   ],
   "source": [
    "Y = WTI_Price_diff[\"DailyPrice\"].values\n",
    "result = adfuller(Y)\n",
    "print('ADF Statistic: %f' % result[0])\n",
    "print('p-value: %f' % result[1])\n",
    "print('Num of Lags', result[2])\n",
    "print('Critical Values:')\n",
    "for key, value in result[4].items():\n",
    "    print('\\t%s: %.3f' % (key, value))\n",
    "    \n",
    "if result[0] < result[4][\"5%\"]:\n",
    "    print (\"Reject Ho - Time series is Stationary\")\n",
    "else:\n",
    "    print(\"Failed to Reject Ho - Time Series is Non-Stationary\")"
   ]
  },
  {
   "cell_type": "code",
   "execution_count": null,
   "id": "d9614caf",
   "metadata": {},
   "outputs": [],
   "source": []
  },
  {
   "cell_type": "code",
   "execution_count": null,
   "id": "837209c1",
   "metadata": {},
   "outputs": [],
   "source": []
  },
  {
   "cell_type": "code",
   "execution_count": null,
   "id": "583beaaa",
   "metadata": {},
   "outputs": [],
   "source": []
  },
  {
   "cell_type": "code",
   "execution_count": 72,
   "id": "304fb5d1",
   "metadata": {},
   "outputs": [],
   "source": [
    "# ACF PACF"
   ]
  },
  {
   "cell_type": "code",
   "execution_count": 58,
   "id": "f2fc3eb8",
   "metadata": {},
   "outputs": [],
   "source": [
    "from statsmodels.graphics.tsaplots import plot_acf, plot_pacf"
   ]
  },
  {
   "cell_type": "code",
   "execution_count": 59,
   "id": "8ea4b088",
   "metadata": {
    "scrolled": false
   },
   "outputs": [
    {
     "data": {
      "image/png": "[encoded data removed]",
      "text/plain": [
       "<Figure size 432x288 with 6 Axes>"
      ]
     },
     "metadata": {
      "needs_background": "light"
     },
     "output_type": "display_data"
    }
   ],
   "source": [
    "fig,axes=plt.subplots(2,3)\n",
    "axes[0,0].plot(WTI_Price_diff)\n",
    "plot_acf(WTI_Price,ax= axes[0,1])\n",
    "plot_acf(WTI_Price.diff().dropna(),ax= axes[0,2])\n",
    "axes[1,0].plot(WTI_Price)\n",
    "plot_pacf(WTI_Price.diff().dropna(),ax= axes[1,1])\n",
    "plt.show()"
   ]
  },
  {
   "cell_type": "code",
   "execution_count": 27,
   "id": "4c9b1ca9",
   "metadata": {},
   "outputs": [],
   "source": []
  },
  {
   "cell_type": "code",
   "execution_count": 60,
   "id": "1e50e9c5",
   "metadata": {},
   "outputs": [
    {
     "name": "stdout",
     "output_type": "stream",
     "text": [
      "Requirement already satisfied: pmdarima in /Users/wangxiaobao/opt/anaconda3/lib/python3.9/site-packages (2.0.1)\n",
      "Requirement already satisfied: pandas>=0.19 in /Users/wangxiaobao/opt/anaconda3/lib/python3.9/site-packages (from pmdarima) (1.4.2)\n",
      "Requirement already satisfied: statsmodels>=0.13.2 in /Users/wangxiaobao/opt/anaconda3/lib/python3.9/site-packages (from pmdarima) (0.13.2)\n",
      "Requirement already satisfied: setuptools!=50.0.0,>=38.6.0 in /Users/wangxiaobao/opt/anaconda3/lib/python3.9/site-packages (from pmdarima) (61.2.0)\n",
      "Requirement already satisfied: scikit-learn>=0.22 in /Users/wangxiaobao/opt/anaconda3/lib/python3.9/site-packages (from pmdarima) (1.0.2)\n",
      "Requirement already satisfied: urllib3 in /Users/wangxiaobao/opt/anaconda3/lib/python3.9/site-packages (from pmdarima) (1.26.9)\n",
      "Requirement already satisfied: joblib>=0.11 in /Users/wangxiaobao/opt/anaconda3/lib/python3.9/site-packages (from pmdarima) (1.1.0)\n",
      "Requirement already satisfied: scipy>=1.3.2 in /Users/wangxiaobao/opt/anaconda3/lib/python3.9/site-packages (from pmdarima) (1.7.3)\n",
      "Requirement already satisfied: Cython!=0.29.18,!=0.29.31,>=0.29 in /Users/wangxiaobao/opt/anaconda3/lib/python3.9/site-packages (from pmdarima) (0.29.28)\n",
      "Requirement already satisfied: numpy>=1.21 in /Users/wangxiaobao/opt/anaconda3/lib/python3.9/site-packages (from pmdarima) (1.21.5)\n",
      "Requirement already satisfied: python-dateutil>=2.8.1 in /Users/wangxiaobao/opt/anaconda3/lib/python3.9/site-packages (from pandas>=0.19->pmdarima) (2.8.2)\n",
      "Requirement already satisfied: pytz>=2020.1 in /Users/wangxiaobao/opt/anaconda3/lib/python3.9/site-packages (from pandas>=0.19->pmdarima) (2021.3)\n",
      "Requirement already satisfied: six>=1.5 in /Users/wangxiaobao/opt/anaconda3/lib/python3.9/site-packages (from python-dateutil>=2.8.1->pandas>=0.19->pmdarima) (1.16.0)\n",
      "Requirement already satisfied: threadpoolctl>=2.0.0 in /Users/wangxiaobao/opt/anaconda3/lib/python3.9/site-packages (from scikit-learn>=0.22->pmdarima) (2.2.0)\n",
      "Requirement already satisfied: packaging>=21.3 in /Users/wangxiaobao/opt/anaconda3/lib/python3.9/site-packages (from statsmodels>=0.13.2->pmdarima) (21.3)\n",
      "Requirement already satisfied: patsy>=0.5.2 in /Users/wangxiaobao/opt/anaconda3/lib/python3.9/site-packages (from statsmodels>=0.13.2->pmdarima) (0.5.2)\n",
      "Requirement already satisfied: pyparsing!=3.0.5,>=2.0.2 in /Users/wangxiaobao/opt/anaconda3/lib/python3.9/site-packages (from packaging>=21.3->statsmodels>=0.13.2->pmdarima) (3.0.4)\n",
      "Note: you may need to restart the kernel to use updated packages.\n"
     ]
    }
   ],
   "source": [
    "pip install pmdarima"
   ]
  },
  {
   "cell_type": "code",
   "execution_count": 61,
   "id": "f9c53203",
   "metadata": {},
   "outputs": [],
   "source": [
    "from pmdarima import auto_arima\n",
    "import warnings\n",
    "warnings.filterwarnings(\"ignore\")"
   ]
  },
  {
   "cell_type": "code",
   "execution_count": 70,
   "id": "55909df2",
   "metadata": {
    "scrolled": true
   },
   "outputs": [
    {
     "name": "stdout",
     "output_type": "stream",
     "text": [
      "Performing stepwise search to minimize aic\n",
      " ARIMA(2,0,2)(0,0,0)[0] intercept   : AIC=7613.313, Time=0.63 sec\n",
      " ARIMA(0,0,0)(0,0,0)[0] intercept   : AIC=7957.466, Time=0.08 sec\n",
      " ARIMA(1,0,0)(0,0,0)[0] intercept   : AIC=7709.188, Time=0.23 sec\n",
      " ARIMA(0,0,1)(0,0,0)[0] intercept   : AIC=7609.235, Time=0.33 sec\n",
      " ARIMA(0,0,0)(0,0,0)[0]             : AIC=7955.534, Time=0.05 sec\n",
      " ARIMA(1,0,1)(0,0,0)[0] intercept   : AIC=7609.584, Time=0.56 sec\n",
      " ARIMA(0,0,2)(0,0,0)[0] intercept   : AIC=7609.664, Time=0.52 sec\n",
      " ARIMA(1,0,2)(0,0,0)[0] intercept   : AIC=7611.461, Time=1.33 sec\n",
      " ARIMA(0,0,1)(0,0,0)[0]             : AIC=7607.689, Time=0.13 sec\n",
      " ARIMA(1,0,1)(0,0,0)[0]             : AIC=7608.076, Time=0.22 sec\n",
      " ARIMA(0,0,2)(0,0,0)[0]             : AIC=7608.152, Time=0.21 sec\n",
      " ARIMA(1,0,0)(0,0,0)[0]             : AIC=7707.351, Time=0.14 sec\n",
      " ARIMA(1,0,2)(0,0,0)[0]             : AIC=7609.962, Time=0.51 sec\n",
      "\n",
      "Best model:  ARIMA(0,0,1)(0,0,0)[0]          \n",
      "Total fit time: 4.952 seconds\n"
     ]
    }
   ],
   "source": [
    "ARIMA = auto_arima(WTI_Price_diff,trace=True, error_action=\"ignore\", rstepwise=True)"
   ]
  },
  {
   "cell_type": "code",
   "execution_count": 71,
   "id": "6dd182b2",
   "metadata": {},
   "outputs": [
    {
     "data": {
      "text/html": [
       "<table class=\"simpletable\">\n",
       "<caption>SARIMAX Results</caption>\n",
       "<tr>\n",
       "  <th>Dep. Variable:</th>           <td>y</td>        <th>  No. Observations:  </th>   <td>1407</td>   \n",
       "</tr>\n",
       "<tr>\n",
       "  <th>Model:</th>           <td>SARIMAX(0, 0, 1)</td> <th>  Log Likelihood     </th> <td>-3801.844</td>\n",
       "</tr>\n",
       "<tr>\n",
       "  <th>Date:</th>            <td>Fri, 26 Aug 2022</td> <th>  AIC                </th> <td>7607.689</td> \n",
       "</tr>\n",
       "<tr>\n",
       "  <th>Time:</th>                <td>13:03:55</td>     <th>  BIC                </th> <td>7618.187</td> \n",
       "</tr>\n",
       "<tr>\n",
       "  <th>Sample:</th>             <td>01-04-2017</td>    <th>  HQIC               </th> <td>7611.612</td> \n",
       "</tr>\n",
       "<tr>\n",
       "  <th></th>                   <td>- 11-10-2020</td>   <th>                     </th>     <td> </td>    \n",
       "</tr>\n",
       "<tr>\n",
       "  <th>Covariance Type:</th>        <td>opg</td>       <th>                     </th>     <td> </td>    \n",
       "</tr>\n",
       "</table>\n",
       "<table class=\"simpletable\">\n",
       "<tr>\n",
       "     <td></td>       <th>coef</th>     <th>std err</th>      <th>z</th>      <th>P>|z|</th>  <th>[0.025</th>    <th>0.975]</th>  \n",
       "</tr>\n",
       "<tr>\n",
       "  <th>ma.L1</th>  <td>   -0.5501</td> <td>    0.004</td> <td> -139.056</td> <td> 0.000</td> <td>   -0.558</td> <td>   -0.542</td>\n",
       "</tr>\n",
       "<tr>\n",
       "  <th>sigma2</th> <td>   13.0143</td> <td>    0.046</td> <td>  285.457</td> <td> 0.000</td> <td>   12.925</td> <td>   13.104</td>\n",
       "</tr>\n",
       "</table>\n",
       "<table class=\"simpletable\">\n",
       "<tr>\n",
       "  <th>Ljung-Box (L1) (Q):</th>     <td>0.44</td>  <th>  Jarque-Bera (JB):  </th> <td>3635926.92</td>\n",
       "</tr>\n",
       "<tr>\n",
       "  <th>Prob(Q):</th>                <td>0.51</td>  <th>  Prob(JB):          </th>    <td>0.00</td>   \n",
       "</tr>\n",
       "<tr>\n",
       "  <th>Heteroskedasticity (H):</th> <td>18.25</td> <th>  Skew:              </th>   <td>-10.03</td>  \n",
       "</tr>\n",
       "<tr>\n",
       "  <th>Prob(H) (two-sided):</th>    <td>0.00</td>  <th>  Kurtosis:          </th>   <td>251.23</td>  \n",
       "</tr>\n",
       "</table><br/><br/>Warnings:<br/>[1] Covariance matrix calculated using the outer product of gradients (complex-step)."
      ],
      "text/plain": [
       "<class 'statsmodels.iolib.summary.Summary'>\n",
       "\"\"\"\n",
       "                               SARIMAX Results                                \n",
       "==============================================================================\n",
       "Dep. Variable:                      y   No. Observations:                 1407\n",
       "Model:               SARIMAX(0, 0, 1)   Log Likelihood               -3801.844\n",
       "Date:                Fri, 26 Aug 2022   AIC                           7607.689\n",
       "Time:                        13:03:55   BIC                           7618.187\n",
       "Sample:                    01-04-2017   HQIC                          7611.612\n",
       "                         - 11-10-2020                                         \n",
       "Covariance Type:                  opg                                         \n",
       "==============================================================================\n",
       "                 coef    std err          z      P>|z|      [0.025      0.975]\n",
       "------------------------------------------------------------------------------\n",
       "ma.L1         -0.5501      0.004   -139.056      0.000      -0.558      -0.542\n",
       "sigma2        13.0143      0.046    285.457      0.000      12.925      13.104\n",
       "===================================================================================\n",
       "Ljung-Box (L1) (Q):                   0.44   Jarque-Bera (JB):           3635926.92\n",
       "Prob(Q):                              0.51   Prob(JB):                         0.00\n",
       "Heteroskedasticity (H):              18.25   Skew:                           -10.03\n",
       "Prob(H) (two-sided):                  0.00   Kurtosis:                       251.23\n",
       "===================================================================================\n",
       "\n",
       "Warnings:\n",
       "[1] Covariance matrix calculated using the outer product of gradients (complex-step).\n",
       "\"\"\""
      ]
     },
     "execution_count": 71,
     "metadata": {},
     "output_type": "execute_result"
    }
   ],
   "source": [
    "ARIMA.summary()"
   ]
  },
  {
   "cell_type": "code",
   "execution_count": 75,
   "id": "47966afa",
   "metadata": {},
   "outputs": [],
   "source": [
    "from statsmodels.tsa.arima.model import ARIMA"
   ]
  },
  {
   "cell_type": "code",
   "execution_count": 76,
   "id": "3633c33e",
   "metadata": {},
   "outputs": [],
   "source": [
    "#Train the model"
   ]
  },
  {
   "cell_type": "code",
   "execution_count": 77,
   "id": "b12fe0f9",
   "metadata": {},
   "outputs": [],
   "source": [
    "model=ARIMA(train[\"DailyPrice\"],order=(0,0,1))"
   ]
  },
  {
   "cell_type": "code",
   "execution_count": 78,
   "id": "6da22383",
   "metadata": {},
   "outputs": [
    {
     "data": {
      "text/html": [
       "<table class=\"simpletable\">\n",
       "<caption>SARIMAX Results</caption>\n",
       "<tr>\n",
       "  <th>Dep. Variable:</th>      <td>DailyPrice</td>    <th>  No. Observations:  </th>   <td>1125</td>   \n",
       "</tr>\n",
       "<tr>\n",
       "  <th>Model:</th>            <td>ARIMA(0, 0, 1)</td>  <th>  Log Likelihood     </th> <td>-3789.435</td>\n",
       "</tr>\n",
       "<tr>\n",
       "  <th>Date:</th>            <td>Fri, 26 Aug 2022</td> <th>  AIC                </th> <td>7584.869</td> \n",
       "</tr>\n",
       "<tr>\n",
       "  <th>Time:</th>                <td>13:12:41</td>     <th>  BIC                </th> <td>7599.946</td> \n",
       "</tr>\n",
       "<tr>\n",
       "  <th>Sample:</th>             <td>01-03-2017</td>    <th>  HQIC               </th> <td>7590.566</td> \n",
       "</tr>\n",
       "<tr>\n",
       "  <th></th>                   <td>- 02-01-2020</td>   <th>                     </th>     <td> </td>    \n",
       "</tr>\n",
       "<tr>\n",
       "  <th>Covariance Type:</th>        <td>opg</td>       <th>                     </th>     <td> </td>    \n",
       "</tr>\n",
       "</table>\n",
       "<table class=\"simpletable\">\n",
       "<tr>\n",
       "     <td></td>       <th>coef</th>     <th>std err</th>      <th>z</th>      <th>P>|z|</th>  <th>[0.025</th>    <th>0.975]</th>  \n",
       "</tr>\n",
       "<tr>\n",
       "  <th>const</th>  <td>   54.0217</td> <td>    0.453</td> <td>  119.279</td> <td> 0.000</td> <td>   53.134</td> <td>   54.909</td>\n",
       "</tr>\n",
       "<tr>\n",
       "  <th>ma.L1</th>  <td>    0.8231</td> <td>    0.006</td> <td>  129.143</td> <td> 0.000</td> <td>    0.811</td> <td>    0.836</td>\n",
       "</tr>\n",
       "<tr>\n",
       "  <th>sigma2</th> <td>   49.2984</td> <td>    0.876</td> <td>   56.307</td> <td> 0.000</td> <td>   47.582</td> <td>   51.014</td>\n",
       "</tr>\n",
       "</table>\n",
       "<table class=\"simpletable\">\n",
       "<tr>\n",
       "  <th>Ljung-Box (L1) (Q):</th>     <td>539.46</td> <th>  Jarque-Bera (JB):  </th> <td>14445.76</td>\n",
       "</tr>\n",
       "<tr>\n",
       "  <th>Prob(Q):</th>                 <td>0.00</td>  <th>  Prob(JB):          </th>   <td>0.00</td>  \n",
       "</tr>\n",
       "<tr>\n",
       "  <th>Heteroskedasticity (H):</th>  <td>4.97</td>  <th>  Skew:              </th>   <td>-2.32</td> \n",
       "</tr>\n",
       "<tr>\n",
       "  <th>Prob(H) (two-sided):</th>     <td>0.00</td>  <th>  Kurtosis:          </th>   <td>19.93</td> \n",
       "</tr>\n",
       "</table><br/><br/>Warnings:<br/>[1] Covariance matrix calculated using the outer product of gradients (complex-step)."
      ],
      "text/plain": [
       "<class 'statsmodels.iolib.summary.Summary'>\n",
       "\"\"\"\n",
       "                               SARIMAX Results                                \n",
       "==============================================================================\n",
       "Dep. Variable:             DailyPrice   No. Observations:                 1125\n",
       "Model:                 ARIMA(0, 0, 1)   Log Likelihood               -3789.435\n",
       "Date:                Fri, 26 Aug 2022   AIC                           7584.869\n",
       "Time:                        13:12:41   BIC                           7599.946\n",
       "Sample:                    01-03-2017   HQIC                          7590.566\n",
       "                         - 02-01-2020                                         \n",
       "Covariance Type:                  opg                                         \n",
       "==============================================================================\n",
       "                 coef    std err          z      P>|z|      [0.025      0.975]\n",
       "------------------------------------------------------------------------------\n",
       "const         54.0217      0.453    119.279      0.000      53.134      54.909\n",
       "ma.L1          0.8231      0.006    129.143      0.000       0.811       0.836\n",
       "sigma2        49.2984      0.876     56.307      0.000      47.582      51.014\n",
       "===================================================================================\n",
       "Ljung-Box (L1) (Q):                 539.46   Jarque-Bera (JB):             14445.76\n",
       "Prob(Q):                              0.00   Prob(JB):                         0.00\n",
       "Heteroskedasticity (H):               4.97   Skew:                            -2.32\n",
       "Prob(H) (two-sided):                  0.00   Kurtosis:                        19.93\n",
       "===================================================================================\n",
       "\n",
       "Warnings:\n",
       "[1] Covariance matrix calculated using the outer product of gradients (complex-step).\n",
       "\"\"\""
      ]
     },
     "execution_count": 78,
     "metadata": {},
     "output_type": "execute_result"
    }
   ],
   "source": [
    "model=model.fit()\n",
    "model.summary()"
   ]
  },
  {
   "cell_type": "code",
   "execution_count": null,
   "id": "d9be69d3",
   "metadata": {},
   "outputs": [],
   "source": [
    "# make predictions on test set"
   ]
  },
  {
   "cell_type": "code",
   "execution_count": 40,
   "id": "a65f1f56",
   "metadata": {},
   "outputs": [],
   "source": [
    "#predict test dataset"
   ]
  },
  {
   "cell_type": "code",
   "execution_count": 79,
   "id": "ebd99083",
   "metadata": {},
   "outputs": [
    {
     "name": "stdout",
     "output_type": "stream",
     "text": [
      "2020-02-02    62.290089\n",
      "2020-02-03    54.021700\n",
      "2020-02-04    54.021700\n",
      "2020-02-05    54.021700\n",
      "2020-02-06    54.021700\n",
      "                ...    \n",
      "2020-11-06    54.021700\n",
      "2020-11-07    54.021700\n",
      "2020-11-08    54.021700\n",
      "2020-11-09    54.021700\n",
      "2020-11-10    54.021700\n",
      "Freq: D, Name: predicted_mean, Length: 283, dtype: float64\n"
     ]
    }
   ],
   "source": [
    "start=len(train)\n",
    "end=len(train)+len(test)-1\n",
    "pred=model.predict(start=start,end=end,type=\"levels\")\n",
    "print(pred)"
   ]
  },
  {
   "cell_type": "code",
   "execution_count": 80,
   "id": "a7d124aa",
   "metadata": {},
   "outputs": [
    {
     "data": {
      "text/plain": [
       "<AxesSubplot:xlabel='Date'>"
      ]
     },
     "execution_count": 80,
     "metadata": {},
     "output_type": "execute_result"
    },
    {
     "data": {
      "image/png": "[encoded data removed]",
      "text/plain": [
       "<Figure size 432x288 with 1 Axes>"
      ]
     },
     "metadata": {
      "needs_background": "light"
     },
     "output_type": "display_data"
    }
   ],
   "source": [
    "pred.plot(legend=True)\n",
    "test[\"DailyPrice\"].plot(legend=True)"
   ]
  },
  {
   "cell_type": "code",
   "execution_count": null,
   "id": "80f947f7",
   "metadata": {},
   "outputs": [],
   "source": []
  },
  {
   "cell_type": "code",
   "execution_count": null,
   "id": "7f351406",
   "metadata": {},
   "outputs": [],
   "source": []
  },
  {
   "cell_type": "code",
   "execution_count": 92,
   "id": "f3380dc1",
   "metadata": {},
   "outputs": [
    {
     "data": {
      "text/plain": [
       "(1125, 1407)"
      ]
     },
     "execution_count": 92,
     "metadata": {},
     "output_type": "execute_result"
    }
   ],
   "source": [
    "len(train),(len(WTI_Price)-1)"
   ]
  },
  {
   "cell_type": "code",
   "execution_count": 93,
   "id": "d0bd662e",
   "metadata": {},
   "outputs": [],
   "source": [
    "train=WTI_Price[:1125]\n",
    "test=WTI_Price[1125:]"
   ]
  },
  {
   "cell_type": "code",
   "execution_count": 94,
   "id": "bae21ab5",
   "metadata": {},
   "outputs": [],
   "source": [
    "pred=model.predict(start=len(train),end=(len(WTI_Price)-1))"
   ]
  },
  {
   "cell_type": "code",
   "execution_count": 95,
   "id": "4357fb70",
   "metadata": {},
   "outputs": [
    {
     "data": {
      "text/plain": [
       "2020-02-02    62.290089\n",
       "2020-02-03    54.021700\n",
       "2020-02-04    54.021700\n",
       "2020-02-05    54.021700\n",
       "2020-02-06    54.021700\n",
       "Freq: D, Name: predicted_mean, dtype: float64"
      ]
     },
     "execution_count": 95,
     "metadata": {},
     "output_type": "execute_result"
    }
   ],
   "source": [
    "pred.head()"
   ]
  },
  {
   "cell_type": "code",
   "execution_count": 96,
   "id": "7bc90542",
   "metadata": {},
   "outputs": [
    {
     "data": {
      "text/plain": [
       "<AxesSubplot:xlabel='Date'>"
      ]
     },
     "execution_count": 96,
     "metadata": {},
     "output_type": "execute_result"
    },
    {
     "data": {
      "image/png": "[encoded data removed]",
      "text/plain": [
       "<Figure size 432x288 with 1 Axes>"
      ]
     },
     "metadata": {
      "needs_background": "light"
     },
     "output_type": "display_data"
    }
   ],
   "source": [
    "pred.plot(legend=True)\n",
    "test[\"DailyPrice\"].plot(legend=True)"
   ]
  },
  {
   "cell_type": "code",
   "execution_count": 45,
   "id": "4ebd344c",
   "metadata": {},
   "outputs": [],
   "source": [
    "#model evaluation"
   ]
  },
  {
   "cell_type": "code",
   "execution_count": 46,
   "id": "d98b9109",
   "metadata": {},
   "outputs": [],
   "source": [
    "from sklearn.metrics import mean_squared_error"
   ]
  },
  {
   "cell_type": "code",
   "execution_count": 47,
   "id": "d6ce7045",
   "metadata": {},
   "outputs": [
    {
     "data": {
      "text/plain": [
       "6.549989331946817"
      ]
     },
     "execution_count": 47,
     "metadata": {},
     "output_type": "execute_result"
    }
   ],
   "source": [
    "error=np.sqrt(mean_squared_error(test,pred))\n",
    "error"
   ]
  },
  {
   "cell_type": "code",
   "execution_count": 48,
   "id": "caa63a1c",
   "metadata": {},
   "outputs": [
    {
     "data": {
      "text/plain": [
       "(DailyPrice    88.711237\n",
       " dtype: float64,\n",
       " DailyPrice    17.139166\n",
       " dtype: float64)"
      ]
     },
     "execution_count": 48,
     "metadata": {},
     "output_type": "execute_result"
    }
   ],
   "source": [
    "test.mean(), np.sqrt(test.var())"
   ]
  },
  {
   "cell_type": "code",
   "execution_count": 49,
   "id": "354fecfa",
   "metadata": {},
   "outputs": [
    {
     "data": {
      "text/plain": [
       "<AxesSubplot:xlabel='Date'>"
      ]
     },
     "execution_count": 49,
     "metadata": {},
     "output_type": "execute_result"
    },
    {
     "data": {
      "image/png": "[encoded data removed]",
      "text/plain": [
       "<Figure size 720x432 with 1 Axes>"
      ]
     },
     "metadata": {
      "needs_background": "light"
     },
     "output_type": "display_data"
    },
    {
     "data": {
      "image/png": "[encoded data removed]",
      "text/plain": [
       "<Figure size 432x288 with 1 Axes>"
      ]
     },
     "metadata": {
      "needs_background": "light"
     },
     "output_type": "display_data"
    }
   ],
   "source": [
    "train.plot(legend=True, label=\"Train\", figsize=(10,6))\n",
    "test.plot(legend=True, label=\"Test\")\n",
    "pred.plot(legend=True, label=\"predictionARIMA\")"
   ]
  }
 ],
 "metadata": {
  "kernelspec": {
   "display_name": "Python 3 (ipykernel)",
   "language": "python",
   "name": "python3"
  },
  "language_info": {
   "codemirror_mode": {
    "name": "ipython",
    "version": 3
   },
   "file_extension": ".py",
   "mimetype": "text/x-python",
   "name": "python",
   "nbconvert_exporter": "python",
   "pygments_lexer": "ipython3",
   "version": "3.9.12"
  }
 },
 "nbformat": 4,
 "nbformat_minor": 5
}
